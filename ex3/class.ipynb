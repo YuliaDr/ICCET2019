{
 "cells": [
  {
   "cell_type": "code",
   "execution_count": 1,
   "metadata": {},
   "outputs": [
    {
     "name": "stderr",
     "output_type": "stream",
     "text": [
      "Using TensorFlow backend.\n"
     ]
    }
   ],
   "source": [
    "import csv\n",
    "import math\n",
    "\n",
    "import numpy as np\n",
    "import tensorflow as tf\n",
    "import pandas as pd\n",
    "from PIL import Image\n",
    "from tensorflow.keras.models import Sequential \n",
    "from tensorflow.keras.applications.mobilenet_v2 import preprocess_input\n",
    "from tensorflow.keras.callbacks import ModelCheckpoint, EarlyStopping, ReduceLROnPlateau, Callback\n",
    "from tensorflow.keras.layers import MaxPooling2D, Conv2D, BatchNormalization, Activation, Flatten, Dense, Dropout\n",
    "from tensorflow.keras.utils import Sequence\n",
    "from tensorflow.keras.optimizers import Adam\n",
    "from keras.constraints import maxnorm\n",
    "from tensorflow.keras.losses import binary_crossentropy\n",
    "from tensorflow.keras.backend import epsilon\n",
    "from keras.preprocessing.image import ImageDataGenerator"
   ]
  },
  {
   "cell_type": "code",
   "execution_count": 2,
   "metadata": {},
   "outputs": [],
   "source": [
    "# 0.35, 0.5, 0.75, 1.0\n",
    "ALPHA = 1.0\n",
    "\n",
    "IMAGE_SIZE = 224\n",
    "\n",
    "EPOCHS = 30 # 200\n",
    "BATCH_SIZE = 32 # 8\n",
    "PATIENCE = 15\n",
    "\n",
    "MULTI_PROCESSING = False\n",
    "THREADS = 1\n",
    "\n",
    "TRAIN_CSV = \"train.csv\"\n",
    "VALIDATION_CSV = \"validation.csv\""
   ]
  },
  {
   "cell_type": "code",
   "execution_count": 9,
   "metadata": {},
   "outputs": [],
   "source": [
    "def data_generator(csv_file):\n",
    "\n",
    "    paths = []\n",
    "    classes = []\n",
    "\n",
    "    with open(csv_file, \"r\") as file:\n",
    "        file.seek(0)\n",
    "\n",
    "        reader = csv.reader(file, delimiter=\",\")\n",
    "\n",
    "        for index, row in enumerate(reader):\n",
    "            path, _, _, _, _, _, _, _, class_ = row\n",
    "            paths.append(path)\n",
    "            classes.append(int(class_))\n",
    "\n",
    "    classes_out = np.zeros((len(classes), 1), dtype=np.int8)\n",
    "    images = np.zeros((len(paths), IMAGE_SIZE, IMAGE_SIZE, 3), dtype=np.float32)\n",
    "    for i, f in enumerate(paths):\n",
    "        img = Image.open(f)\n",
    "        img = img.resize((IMAGE_SIZE, IMAGE_SIZE))\n",
    "        img = img.convert('RGB')\n",
    "\n",
    "        images[i] = np.array(img, dtype=np.float32)\n",
    "        img.close()\n",
    "        \n",
    "        classes_out[i][0] = classes[i]\n",
    "\n",
    "    return images, classes_out\n",
    "\n",
    "def create_model(input_shape):\n",
    "    model = Sequential()\n",
    "\n",
    "    # Добавляем слои\n",
    "    model.add(Conv2D(20, (5, 5), input_shape=input_shape, activation=\"relu\", kernel_constraint=maxnorm(3,), padding=\"same\"))\n",
    "    model.add(MaxPooling2D(padding=\"same\"))\n",
    "    model.add(Conv2D(15, (5, 5), activation=\"relu\", kernel_constraint=maxnorm(3,), padding=\"same\"))\n",
    "    model.add(Conv2D(8, (4, 4), activation=\"relu\", kernel_constraint=maxnorm(3,), padding=\"same\"))\n",
    "    model.add(MaxPooling2D(padding=\"same\"))\n",
    "    model.add(Conv2D(18, (6, 6), activation=\"relu\", kernel_constraint=maxnorm(3,), padding=\"same\"))\n",
    "    model.add(MaxPooling2D(pool_size=(2, 2), padding=\"same\"))\n",
    "\n",
    "    model.add(Flatten())\n",
    "    model.add(Dense(512, activation=\"relu\"))\n",
    "    model.add(Dropout(0.2))\n",
    "    model.add(Dense(256, activation=\"relu\"))\n",
    "    model.add(Dense(512, activation=\"relu\"))\n",
    "    model.add(Dropout(0.1))\n",
    "    model.add(Dense(64, activation=\"relu\"))\n",
    "    model.add(Dense(1, activation=\"sigmoid\"))\n",
    "    \n",
    "    return model\n",
    "\n",
    "def main():\n",
    "    x_train, y_train = data_generator(TRAIN_CSV)\n",
    "    x_val, y_val = data_generator(VALIDATION_CSV)\n",
    "    \n",
    "    input_shape = x_train.shape[1:]\n",
    "# #     y_train = pd.DataFrame(data=y_train)\n",
    "# #     y_val = pd.DataFrame(data=y_val)\n",
    "#     print(y_val)\n",
    "#     model = create_model(input_shape)\n",
    "#     model.summary()\n",
    "    \n",
    "#     optimizer = Adam(lr=1e-4, beta_1=0.9, beta_2=0.999, epsilon=None, decay=0.0, amsgrad=False)\n",
    "#     model.compile(loss='binary_crossentropy', optimizer=optimizer, metrics=[\"accuracy\"])\n",
    "    \n",
    "#     checkpoint = ModelCheckpoint(\"model-{val_dice:.2f}.h5\", monitor=\"val_dice\", verbose=1, save_best_only=True,\n",
    "#                                  save_weights_only=True, mode=\"max\")\n",
    "#     stop = EarlyStopping(monitor=\"val_dice\", patience=PATIENCE, mode=\"max\")\n",
    "#     reduce_lr = ReduceLROnPlateau(monitor=\"val_dice\", factor=0.2, patience=5, min_lr=1e-6, verbose=1, mode=\"max\")\n",
    "    \n",
    "# #     aug = ImageDataGenerator(rotation_range=10, zoom_range=0.1,\n",
    "# #                          width_shift_range=0.2, height_shift_range=0.2, shear_range=0.1,\n",
    "# #                          horizontal_flip=True, fill_mode=\"nearest\")\n",
    "    \n",
    "# #     history = model.fit_generator(aug.flow(x_train, y_train, batch_size=BATCH_SIZE),\n",
    "# #                                   validation_data=(x_val, y_val), \n",
    "# #                                   callbacks=[checkpoint, reduce_lr, stop],\n",
    "# #                                   steps_per_epoch=len(x_train) // BATCH_SIZE,\n",
    "# #                                   epochs=EPOCHS)\n",
    "\n",
    "#     model.fit(x_train, y_train,\n",
    "#               batch_size=BATCH_SIZE,\n",
    "#               epochs=EPOCHS,\n",
    "#               validation_data=(x_val, y_val),\n",
    "#               shuffle=True,\n",
    "#               verbose=1)\n"
   ]
  },
  {
   "cell_type": "code",
   "execution_count": 10,
   "metadata": {
    "scrolled": false
   },
   "outputs": [],
   "source": [
    "main()"
   ]
  },
  {
   "cell_type": "code",
   "execution_count": null,
   "metadata": {},
   "outputs": [],
   "source": []
  }
 ],
 "metadata": {
  "kernelspec": {
   "display_name": "Python 3",
   "language": "python",
   "name": "python3"
  },
  "language_info": {
   "codemirror_mode": {
    "name": "ipython",
    "version": 3
   },
   "file_extension": ".py",
   "mimetype": "text/x-python",
   "name": "python",
   "nbconvert_exporter": "python",
   "pygments_lexer": "ipython3",
   "version": "3.7.3"
  }
 },
 "nbformat": 4,
 "nbformat_minor": 2
}
